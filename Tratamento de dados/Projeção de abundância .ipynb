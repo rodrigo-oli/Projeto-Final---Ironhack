{
 "cells": [
  {
   "cell_type": "markdown",
   "metadata": {
    "ExecuteTime": {
     "end_time": "2021-04-24T04:49:25.147462Z",
     "start_time": "2021-04-24T04:49:25.128470Z"
    }
   },
   "source": [
    "## Importando Bibliotecas"
   ]
  },
  {
   "cell_type": "code",
   "execution_count": 1,
   "metadata": {
    "ExecuteTime": {
     "end_time": "2021-04-14T00:46:29.979707Z",
     "start_time": "2021-04-14T00:46:02.849223Z"
    }
   },
   "outputs": [],
   "source": [
    "import pandas as pd\n",
    "from sklearn import linear_model\n",
    "import matplotlib.pyplot as plt"
   ]
  },
  {
   "cell_type": "code",
   "execution_count": null,
   "metadata": {},
   "outputs": [],
   "source": [
    "## importando novo dataset com novas colunas (quantidade de observação, lat & lon, e aprovação do dado)"
   ]
  },
  {
   "cell_type": "code",
   "execution_count": 2,
   "metadata": {
    "ExecuteTime": {
     "end_time": "2021-04-14T00:49:46.518848Z",
     "start_time": "2021-04-14T00:48:59.565535Z"
    }
   },
   "outputs": [],
   "source": [
    "data1 = pd.read_csv('ebd_BR_relFeb-2021.txt', sep='\\t', usecols = ['COMMON NAME', 'SCIENTIFIC NAME', 'OBSERVATION COUNT', 'LATITUDE','LONGITUDE' , 'OBSERVATION DATE'])"
   ]
  },
  {
   "cell_type": "code",
   "execution_count": 3,
   "metadata": {
    "ExecuteTime": {
     "end_time": "2021-04-14T00:49:49.724948Z",
     "start_time": "2021-04-14T00:49:49.659907Z"
    }
   },
   "outputs": [
    {
     "data": {
      "text/html": [
       "<div>\n",
       "<style scoped>\n",
       "    .dataframe tbody tr th:only-of-type {\n",
       "        vertical-align: middle;\n",
       "    }\n",
       "\n",
       "    .dataframe tbody tr th {\n",
       "        vertical-align: top;\n",
       "    }\n",
       "\n",
       "    .dataframe thead th {\n",
       "        text-align: right;\n",
       "    }\n",
       "</style>\n",
       "<table border=\"1\" class=\"dataframe\">\n",
       "  <thead>\n",
       "    <tr style=\"text-align: right;\">\n",
       "      <th></th>\n",
       "      <th>COMMON NAME</th>\n",
       "      <th>SCIENTIFIC NAME</th>\n",
       "      <th>OBSERVATION COUNT</th>\n",
       "      <th>LATITUDE</th>\n",
       "      <th>LONGITUDE</th>\n",
       "      <th>OBSERVATION DATE</th>\n",
       "    </tr>\n",
       "  </thead>\n",
       "  <tbody>\n",
       "    <tr>\n",
       "      <th>0</th>\n",
       "      <td>Black Noddy</td>\n",
       "      <td>Anous minutus</td>\n",
       "      <td>X</td>\n",
       "      <td>0.916828</td>\n",
       "      <td>-29.345435</td>\n",
       "      <td>2007-10-26</td>\n",
       "    </tr>\n",
       "    <tr>\n",
       "      <th>1</th>\n",
       "      <td>Brown Booby</td>\n",
       "      <td>Sula leucogaster</td>\n",
       "      <td>X</td>\n",
       "      <td>0.916828</td>\n",
       "      <td>-29.345435</td>\n",
       "      <td>2007-10-26</td>\n",
       "    </tr>\n",
       "    <tr>\n",
       "      <th>2</th>\n",
       "      <td>Brown Noddy</td>\n",
       "      <td>Anous stolidus</td>\n",
       "      <td>X</td>\n",
       "      <td>0.916828</td>\n",
       "      <td>-29.345435</td>\n",
       "      <td>2007-10-26</td>\n",
       "    </tr>\n",
       "    <tr>\n",
       "      <th>3</th>\n",
       "      <td>Leach's Storm-Petrel</td>\n",
       "      <td>Oceanodroma leucorhoa</td>\n",
       "      <td>X</td>\n",
       "      <td>0.916828</td>\n",
       "      <td>-29.345435</td>\n",
       "      <td>2007-10-26</td>\n",
       "    </tr>\n",
       "    <tr>\n",
       "      <th>4</th>\n",
       "      <td>Magnificent Frigatebird</td>\n",
       "      <td>Fregata magnificens</td>\n",
       "      <td>X</td>\n",
       "      <td>0.916828</td>\n",
       "      <td>-29.345435</td>\n",
       "      <td>2007-10-26</td>\n",
       "    </tr>\n",
       "    <tr>\n",
       "      <th>5</th>\n",
       "      <td>Manx Shearwater</td>\n",
       "      <td>Puffinus puffinus</td>\n",
       "      <td>X</td>\n",
       "      <td>0.916828</td>\n",
       "      <td>-29.345435</td>\n",
       "      <td>2007-10-26</td>\n",
       "    </tr>\n",
       "    <tr>\n",
       "      <th>6</th>\n",
       "      <td>Sooty Tern</td>\n",
       "      <td>Onychoprion fuscatus</td>\n",
       "      <td>X</td>\n",
       "      <td>0.916828</td>\n",
       "      <td>-29.345435</td>\n",
       "      <td>2007-10-26</td>\n",
       "    </tr>\n",
       "    <tr>\n",
       "      <th>7</th>\n",
       "      <td>South Polar Skua</td>\n",
       "      <td>Stercorarius maccormicki</td>\n",
       "      <td>X</td>\n",
       "      <td>0.916828</td>\n",
       "      <td>-29.345435</td>\n",
       "      <td>2007-10-26</td>\n",
       "    </tr>\n",
       "    <tr>\n",
       "      <th>8</th>\n",
       "      <td>Bulwer's Petrel</td>\n",
       "      <td>Bulweria bulwerii</td>\n",
       "      <td>7</td>\n",
       "      <td>0.918781</td>\n",
       "      <td>-29.345525</td>\n",
       "      <td>2019-01-18</td>\n",
       "    </tr>\n",
       "    <tr>\n",
       "      <th>9</th>\n",
       "      <td>Cory's Shearwater</td>\n",
       "      <td>Calonectris diomedea</td>\n",
       "      <td>2</td>\n",
       "      <td>0.918781</td>\n",
       "      <td>-29.345525</td>\n",
       "      <td>2019-01-18</td>\n",
       "    </tr>\n",
       "  </tbody>\n",
       "</table>\n",
       "</div>"
      ],
      "text/plain": [
       "               COMMON NAME           SCIENTIFIC NAME OBSERVATION COUNT  \\\n",
       "0              Black Noddy             Anous minutus                 X   \n",
       "1              Brown Booby          Sula leucogaster                 X   \n",
       "2              Brown Noddy            Anous stolidus                 X   \n",
       "3     Leach's Storm-Petrel     Oceanodroma leucorhoa                 X   \n",
       "4  Magnificent Frigatebird       Fregata magnificens                 X   \n",
       "5          Manx Shearwater         Puffinus puffinus                 X   \n",
       "6               Sooty Tern      Onychoprion fuscatus                 X   \n",
       "7         South Polar Skua  Stercorarius maccormicki                 X   \n",
       "8          Bulwer's Petrel         Bulweria bulwerii                 7   \n",
       "9        Cory's Shearwater      Calonectris diomedea                 2   \n",
       "\n",
       "   LATITUDE  LONGITUDE OBSERVATION DATE  \n",
       "0  0.916828 -29.345435       2007-10-26  \n",
       "1  0.916828 -29.345435       2007-10-26  \n",
       "2  0.916828 -29.345435       2007-10-26  \n",
       "3  0.916828 -29.345435       2007-10-26  \n",
       "4  0.916828 -29.345435       2007-10-26  \n",
       "5  0.916828 -29.345435       2007-10-26  \n",
       "6  0.916828 -29.345435       2007-10-26  \n",
       "7  0.916828 -29.345435       2007-10-26  \n",
       "8  0.918781 -29.345525       2019-01-18  \n",
       "9  0.918781 -29.345525       2019-01-18  "
      ]
     },
     "execution_count": 3,
     "metadata": {},
     "output_type": "execute_result"
    }
   ],
   "source": [
    "data1.head(10)"
   ]
  },
  {
   "cell_type": "markdown",
   "metadata": {},
   "source": [
    "## procurando procurando e excluindo dados reprovados"
   ]
  },
  {
   "cell_type": "code",
   "execution_count": 4,
   "metadata": {
    "ExecuteTime": {
     "end_time": "2021-04-06T21:26:12.534269Z",
     "start_time": "2021-04-06T21:25:17.129816Z"
    }
   },
   "outputs": [],
   "source": [
    "data2 = pd.read_csv('ebd_BR_relFeb-2021.txt', sep='\\t', usecols = ['COMMON NAME', 'APPROVED'])"
   ]
  },
  {
   "cell_type": "code",
   "execution_count": 5,
   "metadata": {
    "ExecuteTime": {
     "end_time": "2021-04-06T21:26:17.066821Z",
     "start_time": "2021-04-06T21:26:16.163452Z"
    }
   },
   "outputs": [
    {
     "data": {
      "text/html": [
       "<div>\n",
       "<style scoped>\n",
       "    .dataframe tbody tr th:only-of-type {\n",
       "        vertical-align: middle;\n",
       "    }\n",
       "\n",
       "    .dataframe tbody tr th {\n",
       "        vertical-align: top;\n",
       "    }\n",
       "\n",
       "    .dataframe thead th {\n",
       "        text-align: right;\n",
       "    }\n",
       "</style>\n",
       "<table border=\"1\" class=\"dataframe\">\n",
       "  <thead>\n",
       "    <tr style=\"text-align: right;\">\n",
       "      <th></th>\n",
       "      <th>APPROVED</th>\n",
       "    </tr>\n",
       "  </thead>\n",
       "  <tbody>\n",
       "    <tr>\n",
       "      <th>count</th>\n",
       "      <td>8170994.0</td>\n",
       "    </tr>\n",
       "    <tr>\n",
       "      <th>mean</th>\n",
       "      <td>1.0</td>\n",
       "    </tr>\n",
       "    <tr>\n",
       "      <th>std</th>\n",
       "      <td>0.0</td>\n",
       "    </tr>\n",
       "    <tr>\n",
       "      <th>min</th>\n",
       "      <td>1.0</td>\n",
       "    </tr>\n",
       "    <tr>\n",
       "      <th>25%</th>\n",
       "      <td>1.0</td>\n",
       "    </tr>\n",
       "    <tr>\n",
       "      <th>50%</th>\n",
       "      <td>1.0</td>\n",
       "    </tr>\n",
       "    <tr>\n",
       "      <th>75%</th>\n",
       "      <td>1.0</td>\n",
       "    </tr>\n",
       "    <tr>\n",
       "      <th>max</th>\n",
       "      <td>1.0</td>\n",
       "    </tr>\n",
       "  </tbody>\n",
       "</table>\n",
       "</div>"
      ],
      "text/plain": [
       "        APPROVED\n",
       "count  8170994.0\n",
       "mean         1.0\n",
       "std          0.0\n",
       "min          1.0\n",
       "25%          1.0\n",
       "50%          1.0\n",
       "75%          1.0\n",
       "max          1.0"
      ]
     },
     "execution_count": 5,
     "metadata": {},
     "output_type": "execute_result"
    }
   ],
   "source": [
    "data2.describe()"
   ]
  },
  {
   "cell_type": "code",
   "execution_count": 7,
   "metadata": {
    "ExecuteTime": {
     "end_time": "2021-04-06T21:26:33.547672Z",
     "start_time": "2021-04-06T21:26:33.368752Z"
    }
   },
   "outputs": [
    {
     "data": {
      "text/plain": [
       "1    8170994\n",
       "Name: APPROVED, dtype: int64"
      ]
     },
     "execution_count": 7,
     "metadata": {},
     "output_type": "execute_result"
    }
   ],
   "source": [
    "data2['APPROVED'].value_counts()"
   ]
  },
  {
   "cell_type": "code",
   "execution_count": 11,
   "metadata": {
    "ExecuteTime": {
     "end_time": "2021-04-06T21:27:32.064339Z",
     "start_time": "2021-04-06T21:27:32.020372Z"
    }
   },
   "outputs": [
    {
     "data": {
      "text/plain": [
       "0          False\n",
       "1          False\n",
       "2          False\n",
       "3          False\n",
       "4          False\n",
       "           ...  \n",
       "8170989    False\n",
       "8170990    False\n",
       "8170991    False\n",
       "8170992    False\n",
       "8170993    False\n",
       "Name: APPROVED, Length: 8170994, dtype: bool"
      ]
     },
     "execution_count": 11,
     "metadata": {},
     "output_type": "execute_result"
    }
   ],
   "source": [
    "data2['APPROVED'] == 2"
   ]
  },
  {
   "cell_type": "code",
   "execution_count": 13,
   "metadata": {
    "ExecuteTime": {
     "end_time": "2021-04-06T21:28:38.500997Z",
     "start_time": "2021-04-06T21:28:37.902780Z"
    }
   },
   "outputs": [
    {
     "data": {
      "text/plain": [
       "1    8170994\n",
       "Name: APPROVED, dtype: int64"
      ]
     },
     "execution_count": 13,
     "metadata": {},
     "output_type": "execute_result"
    }
   ],
   "source": [
    "data2[data2['APPROVED'] == 1]['APPROVED'].value_counts()"
   ]
  },
  {
   "cell_type": "code",
   "execution_count": 14,
   "metadata": {
    "ExecuteTime": {
     "end_time": "2021-04-06T21:28:53.580296Z",
     "start_time": "2021-04-06T21:28:53.518232Z"
    }
   },
   "outputs": [
    {
     "data": {
      "text/plain": [
       "Series([], Name: APPROVED, dtype: int64)"
      ]
     },
     "execution_count": 14,
     "metadata": {},
     "output_type": "execute_result"
    }
   ],
   "source": [
    "data2[data2['APPROVED'] == 0]['APPROVED'].value_counts()"
   ]
  },
  {
   "cell_type": "code",
   "execution_count": 3,
   "metadata": {
    "ExecuteTime": {
     "end_time": "2021-04-13T00:28:11.680839Z",
     "start_time": "2021-04-13T00:28:11.664838Z"
    }
   },
   "outputs": [
    {
     "data": {
      "text/plain": [
       "(8170994, 6)"
      ]
     },
     "execution_count": 3,
     "metadata": {},
     "output_type": "execute_result"
    }
   ],
   "source": [
    "data1.shape"
   ]
  },
  {
   "cell_type": "markdown",
   "metadata": {},
   "source": [
    "## Data set somente com dados aprovados\n",
    "Transformando a coluna de contagem de obeservação em numeros int"
   ]
  },
  {
   "cell_type": "code",
   "execution_count": 4,
   "metadata": {
    "ExecuteTime": {
     "end_time": "2021-04-14T00:49:59.441315Z",
     "start_time": "2021-04-14T00:49:59.436317Z"
    }
   },
   "outputs": [],
   "source": [
    "def count_x(linha):\n",
    "    if linha == 'X':\n",
    "        return 1\n",
    "    else:\n",
    "        return linha"
   ]
  },
  {
   "cell_type": "code",
   "execution_count": 5,
   "metadata": {
    "ExecuteTime": {
     "end_time": "2021-04-14T00:50:06.406353Z",
     "start_time": "2021-04-14T00:50:03.679408Z"
    }
   },
   "outputs": [],
   "source": [
    "data1['OBSERVATION COUNT'] = data1['OBSERVATION COUNT'].apply(count_x)"
   ]
  },
  {
   "cell_type": "code",
   "execution_count": 6,
   "metadata": {
    "ExecuteTime": {
     "end_time": "2021-04-14T00:50:09.852420Z",
     "start_time": "2021-04-14T00:50:08.947149Z"
    }
   },
   "outputs": [],
   "source": [
    "data1['OBSERVATION COUNT'] = data1['OBSERVATION COUNT'].astype(int)"
   ]
  },
  {
   "cell_type": "code",
   "execution_count": 7,
   "metadata": {
    "ExecuteTime": {
     "end_time": "2021-04-14T00:50:12.891821Z",
     "start_time": "2021-04-14T00:50:12.868835Z"
    }
   },
   "outputs": [
    {
     "data": {
      "text/html": [
       "<div>\n",
       "<style scoped>\n",
       "    .dataframe tbody tr th:only-of-type {\n",
       "        vertical-align: middle;\n",
       "    }\n",
       "\n",
       "    .dataframe tbody tr th {\n",
       "        vertical-align: top;\n",
       "    }\n",
       "\n",
       "    .dataframe thead th {\n",
       "        text-align: right;\n",
       "    }\n",
       "</style>\n",
       "<table border=\"1\" class=\"dataframe\">\n",
       "  <thead>\n",
       "    <tr style=\"text-align: right;\">\n",
       "      <th></th>\n",
       "      <th>COMMON NAME</th>\n",
       "      <th>SCIENTIFIC NAME</th>\n",
       "      <th>OBSERVATION COUNT</th>\n",
       "      <th>LATITUDE</th>\n",
       "      <th>LONGITUDE</th>\n",
       "      <th>OBSERVATION DATE</th>\n",
       "    </tr>\n",
       "  </thead>\n",
       "  <tbody>\n",
       "    <tr>\n",
       "      <th>0</th>\n",
       "      <td>Black Noddy</td>\n",
       "      <td>Anous minutus</td>\n",
       "      <td>1</td>\n",
       "      <td>0.916828</td>\n",
       "      <td>-29.345435</td>\n",
       "      <td>2007-10-26</td>\n",
       "    </tr>\n",
       "    <tr>\n",
       "      <th>1</th>\n",
       "      <td>Brown Booby</td>\n",
       "      <td>Sula leucogaster</td>\n",
       "      <td>1</td>\n",
       "      <td>0.916828</td>\n",
       "      <td>-29.345435</td>\n",
       "      <td>2007-10-26</td>\n",
       "    </tr>\n",
       "    <tr>\n",
       "      <th>2</th>\n",
       "      <td>Brown Noddy</td>\n",
       "      <td>Anous stolidus</td>\n",
       "      <td>1</td>\n",
       "      <td>0.916828</td>\n",
       "      <td>-29.345435</td>\n",
       "      <td>2007-10-26</td>\n",
       "    </tr>\n",
       "    <tr>\n",
       "      <th>3</th>\n",
       "      <td>Leach's Storm-Petrel</td>\n",
       "      <td>Oceanodroma leucorhoa</td>\n",
       "      <td>1</td>\n",
       "      <td>0.916828</td>\n",
       "      <td>-29.345435</td>\n",
       "      <td>2007-10-26</td>\n",
       "    </tr>\n",
       "    <tr>\n",
       "      <th>4</th>\n",
       "      <td>Magnificent Frigatebird</td>\n",
       "      <td>Fregata magnificens</td>\n",
       "      <td>1</td>\n",
       "      <td>0.916828</td>\n",
       "      <td>-29.345435</td>\n",
       "      <td>2007-10-26</td>\n",
       "    </tr>\n",
       "  </tbody>\n",
       "</table>\n",
       "</div>"
      ],
      "text/plain": [
       "               COMMON NAME        SCIENTIFIC NAME  OBSERVATION COUNT  \\\n",
       "0              Black Noddy          Anous minutus                  1   \n",
       "1              Brown Booby       Sula leucogaster                  1   \n",
       "2              Brown Noddy         Anous stolidus                  1   \n",
       "3     Leach's Storm-Petrel  Oceanodroma leucorhoa                  1   \n",
       "4  Magnificent Frigatebird    Fregata magnificens                  1   \n",
       "\n",
       "   LATITUDE  LONGITUDE OBSERVATION DATE  \n",
       "0  0.916828 -29.345435       2007-10-26  \n",
       "1  0.916828 -29.345435       2007-10-26  \n",
       "2  0.916828 -29.345435       2007-10-26  \n",
       "3  0.916828 -29.345435       2007-10-26  \n",
       "4  0.916828 -29.345435       2007-10-26  "
      ]
     },
     "execution_count": 7,
     "metadata": {},
     "output_type": "execute_result"
    }
   ],
   "source": [
    "data1.head()"
   ]
  },
  {
   "cell_type": "code",
   "execution_count": 8,
   "metadata": {
    "ExecuteTime": {
     "end_time": "2021-04-14T00:50:16.907193Z",
     "start_time": "2021-04-14T00:50:16.855222Z"
    }
   },
   "outputs": [
    {
     "name": "stdout",
     "output_type": "stream",
     "text": [
      "<class 'pandas.core.frame.DataFrame'>\n",
      "RangeIndex: 8170994 entries, 0 to 8170993\n",
      "Data columns (total 6 columns):\n",
      " #   Column             Dtype  \n",
      "---  ------             -----  \n",
      " 0   COMMON NAME        object \n",
      " 1   SCIENTIFIC NAME    object \n",
      " 2   OBSERVATION COUNT  int32  \n",
      " 3   LATITUDE           float64\n",
      " 4   LONGITUDE          float64\n",
      " 5   OBSERVATION DATE   object \n",
      "dtypes: float64(2), int32(1), object(3)\n",
      "memory usage: 342.9+ MB\n"
     ]
    }
   ],
   "source": [
    "data1.info()"
   ]
  },
  {
   "cell_type": "code",
   "execution_count": 9,
   "metadata": {
    "ExecuteTime": {
     "end_time": "2021-04-14T00:50:21.438130Z",
     "start_time": "2021-04-14T00:50:20.123640Z"
    }
   },
   "outputs": [
    {
     "data": {
      "text/plain": [
       "COMMON NAME          0\n",
       "SCIENTIFIC NAME      0\n",
       "OBSERVATION COUNT    0\n",
       "LATITUDE             0\n",
       "LONGITUDE            0\n",
       "OBSERVATION DATE     0\n",
       "dtype: int64"
      ]
     },
     "execution_count": 9,
     "metadata": {},
     "output_type": "execute_result"
    }
   ],
   "source": [
    " data1.isnull().sum()"
   ]
  },
  {
   "cell_type": "markdown",
   "metadata": {},
   "source": [
    "## Transformando coluna da data observação de objt para datetime"
   ]
  },
  {
   "cell_type": "code",
   "execution_count": 10,
   "metadata": {
    "ExecuteTime": {
     "end_time": "2021-04-14T00:50:27.379585Z",
     "start_time": "2021-04-14T00:50:25.823718Z"
    }
   },
   "outputs": [],
   "source": [
    "data1['OBSERVATION DATE'] = pd.to_datetime(data1['OBSERVATION DATE'])"
   ]
  },
  {
   "cell_type": "code",
   "execution_count": 11,
   "metadata": {
    "ExecuteTime": {
     "end_time": "2021-04-14T00:50:35.307717Z",
     "start_time": "2021-04-14T00:50:35.284735Z"
    }
   },
   "outputs": [
    {
     "name": "stdout",
     "output_type": "stream",
     "text": [
      "<class 'pandas.core.frame.DataFrame'>\n",
      "RangeIndex: 8170994 entries, 0 to 8170993\n",
      "Data columns (total 6 columns):\n",
      " #   Column             Dtype         \n",
      "---  ------             -----         \n",
      " 0   COMMON NAME        object        \n",
      " 1   SCIENTIFIC NAME    object        \n",
      " 2   OBSERVATION COUNT  int32         \n",
      " 3   LATITUDE           float64       \n",
      " 4   LONGITUDE          float64       \n",
      " 5   OBSERVATION DATE   datetime64[ns]\n",
      "dtypes: datetime64[ns](1), float64(2), int32(1), object(2)\n",
      "memory usage: 342.9+ MB\n"
     ]
    }
   ],
   "source": [
    "data1.info()"
   ]
  },
  {
   "cell_type": "code",
   "execution_count": 32,
   "metadata": {
    "ExecuteTime": {
     "end_time": "2021-04-08T23:41:39.038841Z",
     "start_time": "2021-04-08T23:41:37.706819Z"
    }
   },
   "outputs": [],
   "source": [
    "##Transformação da data inteira para o ano\n",
    "##data1['YEAR'] = data1['OBSERVATION DATE'].dt.year"
   ]
  },
  {
   "cell_type": "code",
   "execution_count": 25,
   "metadata": {
    "ExecuteTime": {
     "end_time": "2021-04-13T01:38:31.584825Z",
     "start_time": "2021-04-13T01:38:31.567838Z"
    }
   },
   "outputs": [],
   "source": [
    "## apagando segunda coluna criada com a quantidade de observação data1.drop(columns=['OBSERVATION COUNT 2'])"
   ]
  },
  {
   "cell_type": "code",
   "execution_count": 27,
   "metadata": {
    "ExecuteTime": {
     "end_time": "2021-04-13T01:40:14.933274Z",
     "start_time": "2021-04-13T01:40:14.917283Z"
    }
   },
   "outputs": [],
   "source": [
    "## Agrupando dados data1.groupby(['SCIENTIFIC NAME', 'LATITUDE','LONGITUDE', 'year'], as_index=False).count()"
   ]
  },
  {
   "cell_type": "code",
   "execution_count": null,
   "metadata": {},
   "outputs": [],
   "source": [
    "### Salvando o arquivo para abrir no Tableau"
   ]
  },
  {
   "cell_type": "code",
   "execution_count": 12,
   "metadata": {
    "ExecuteTime": {
     "end_time": "2021-04-14T00:50:41.056418Z",
     "start_time": "2021-04-14T00:50:41.033432Z"
    }
   },
   "outputs": [
    {
     "data": {
      "text/html": [
       "<div>\n",
       "<style scoped>\n",
       "    .dataframe tbody tr th:only-of-type {\n",
       "        vertical-align: middle;\n",
       "    }\n",
       "\n",
       "    .dataframe tbody tr th {\n",
       "        vertical-align: top;\n",
       "    }\n",
       "\n",
       "    .dataframe thead th {\n",
       "        text-align: right;\n",
       "    }\n",
       "</style>\n",
       "<table border=\"1\" class=\"dataframe\">\n",
       "  <thead>\n",
       "    <tr style=\"text-align: right;\">\n",
       "      <th></th>\n",
       "      <th>COMMON NAME</th>\n",
       "      <th>SCIENTIFIC NAME</th>\n",
       "      <th>OBSERVATION COUNT</th>\n",
       "      <th>LATITUDE</th>\n",
       "      <th>LONGITUDE</th>\n",
       "      <th>OBSERVATION DATE</th>\n",
       "    </tr>\n",
       "  </thead>\n",
       "  <tbody>\n",
       "    <tr>\n",
       "      <th>0</th>\n",
       "      <td>Black Noddy</td>\n",
       "      <td>Anous minutus</td>\n",
       "      <td>1</td>\n",
       "      <td>0.916828</td>\n",
       "      <td>-29.345435</td>\n",
       "      <td>2007-10-26</td>\n",
       "    </tr>\n",
       "    <tr>\n",
       "      <th>1</th>\n",
       "      <td>Brown Booby</td>\n",
       "      <td>Sula leucogaster</td>\n",
       "      <td>1</td>\n",
       "      <td>0.916828</td>\n",
       "      <td>-29.345435</td>\n",
       "      <td>2007-10-26</td>\n",
       "    </tr>\n",
       "    <tr>\n",
       "      <th>2</th>\n",
       "      <td>Brown Noddy</td>\n",
       "      <td>Anous stolidus</td>\n",
       "      <td>1</td>\n",
       "      <td>0.916828</td>\n",
       "      <td>-29.345435</td>\n",
       "      <td>2007-10-26</td>\n",
       "    </tr>\n",
       "    <tr>\n",
       "      <th>3</th>\n",
       "      <td>Leach's Storm-Petrel</td>\n",
       "      <td>Oceanodroma leucorhoa</td>\n",
       "      <td>1</td>\n",
       "      <td>0.916828</td>\n",
       "      <td>-29.345435</td>\n",
       "      <td>2007-10-26</td>\n",
       "    </tr>\n",
       "    <tr>\n",
       "      <th>4</th>\n",
       "      <td>Magnificent Frigatebird</td>\n",
       "      <td>Fregata magnificens</td>\n",
       "      <td>1</td>\n",
       "      <td>0.916828</td>\n",
       "      <td>-29.345435</td>\n",
       "      <td>2007-10-26</td>\n",
       "    </tr>\n",
       "  </tbody>\n",
       "</table>\n",
       "</div>"
      ],
      "text/plain": [
       "               COMMON NAME        SCIENTIFIC NAME  OBSERVATION COUNT  \\\n",
       "0              Black Noddy          Anous minutus                  1   \n",
       "1              Brown Booby       Sula leucogaster                  1   \n",
       "2              Brown Noddy         Anous stolidus                  1   \n",
       "3     Leach's Storm-Petrel  Oceanodroma leucorhoa                  1   \n",
       "4  Magnificent Frigatebird    Fregata magnificens                  1   \n",
       "\n",
       "   LATITUDE  LONGITUDE OBSERVATION DATE  \n",
       "0  0.916828 -29.345435       2007-10-26  \n",
       "1  0.916828 -29.345435       2007-10-26  \n",
       "2  0.916828 -29.345435       2007-10-26  \n",
       "3  0.916828 -29.345435       2007-10-26  \n",
       "4  0.916828 -29.345435       2007-10-26  "
      ]
     },
     "execution_count": 12,
     "metadata": {},
     "output_type": "execute_result"
    }
   ],
   "source": [
    "data1.head()"
   ]
  },
  {
   "cell_type": "code",
   "execution_count": 13,
   "metadata": {
    "ExecuteTime": {
     "end_time": "2021-04-14T00:50:48.330235Z",
     "start_time": "2021-04-14T00:50:48.012065Z"
    }
   },
   "outputs": [],
   "source": [
    "df = data1.drop(columns=['COMMON NAME'])"
   ]
  },
  {
   "cell_type": "code",
   "execution_count": null,
   "metadata": {},
   "outputs": [],
   "source": []
  },
  {
   "cell_type": "code",
   "execution_count": 38,
   "metadata": {
    "ExecuteTime": {
     "end_time": "2021-04-13T01:54:14.015131Z",
     "start_time": "2021-04-13T01:51:48.629943Z"
    }
   },
   "outputs": [],
   "source": [
    "df.to_csv('projeção_de_abundancia2.csv', sep='\\t', encoding='utf-8', index=False)"
   ]
  },
  {
   "cell_type": "markdown",
   "metadata": {},
   "source": [
    "## Criando uma pequena base para testes de vizualizações (sabias)"
   ]
  },
  {
   "cell_type": "code",
   "execution_count": 29,
   "metadata": {
    "ExecuteTime": {
     "end_time": "2021-04-13T01:47:02.484869Z",
     "start_time": "2021-04-13T01:47:02.217010Z"
    }
   },
   "outputs": [],
   "source": [
    "df4 = data1.drop(columns=['COMMON NAME'])"
   ]
  },
  {
   "cell_type": "code",
   "execution_count": 31,
   "metadata": {
    "ExecuteTime": {
     "end_time": "2021-04-13T01:47:07.875379Z",
     "start_time": "2021-04-13T01:47:07.837420Z"
    }
   },
   "outputs": [
    {
     "data": {
      "text/html": [
       "<div>\n",
       "<style scoped>\n",
       "    .dataframe tbody tr th:only-of-type {\n",
       "        vertical-align: middle;\n",
       "    }\n",
       "\n",
       "    .dataframe tbody tr th {\n",
       "        vertical-align: top;\n",
       "    }\n",
       "\n",
       "    .dataframe thead th {\n",
       "        text-align: right;\n",
       "    }\n",
       "</style>\n",
       "<table border=\"1\" class=\"dataframe\">\n",
       "  <thead>\n",
       "    <tr style=\"text-align: right;\">\n",
       "      <th></th>\n",
       "      <th>SCIENTIFIC NAME</th>\n",
       "      <th>OBSERVATION COUNT</th>\n",
       "      <th>LATITUDE</th>\n",
       "      <th>LONGITUDE</th>\n",
       "      <th>OBSERVATION DATE</th>\n",
       "    </tr>\n",
       "  </thead>\n",
       "  <tbody>\n",
       "    <tr>\n",
       "      <th>0</th>\n",
       "      <td>Anous minutus</td>\n",
       "      <td>1</td>\n",
       "      <td>0.916828</td>\n",
       "      <td>-29.345435</td>\n",
       "      <td>2007-10-26</td>\n",
       "    </tr>\n",
       "    <tr>\n",
       "      <th>1</th>\n",
       "      <td>Sula leucogaster</td>\n",
       "      <td>1</td>\n",
       "      <td>0.916828</td>\n",
       "      <td>-29.345435</td>\n",
       "      <td>2007-10-26</td>\n",
       "    </tr>\n",
       "    <tr>\n",
       "      <th>2</th>\n",
       "      <td>Anous stolidus</td>\n",
       "      <td>1</td>\n",
       "      <td>0.916828</td>\n",
       "      <td>-29.345435</td>\n",
       "      <td>2007-10-26</td>\n",
       "    </tr>\n",
       "    <tr>\n",
       "      <th>3</th>\n",
       "      <td>Oceanodroma leucorhoa</td>\n",
       "      <td>1</td>\n",
       "      <td>0.916828</td>\n",
       "      <td>-29.345435</td>\n",
       "      <td>2007-10-26</td>\n",
       "    </tr>\n",
       "    <tr>\n",
       "      <th>4</th>\n",
       "      <td>Fregata magnificens</td>\n",
       "      <td>1</td>\n",
       "      <td>0.916828</td>\n",
       "      <td>-29.345435</td>\n",
       "      <td>2007-10-26</td>\n",
       "    </tr>\n",
       "    <tr>\n",
       "      <th>...</th>\n",
       "      <td>...</td>\n",
       "      <td>...</td>\n",
       "      <td>...</td>\n",
       "      <td>...</td>\n",
       "      <td>...</td>\n",
       "    </tr>\n",
       "    <tr>\n",
       "      <th>8170989</th>\n",
       "      <td>Cacicus cela</td>\n",
       "      <td>4</td>\n",
       "      <td>-9.858650</td>\n",
       "      <td>-48.663900</td>\n",
       "      <td>2021-02-21</td>\n",
       "    </tr>\n",
       "    <tr>\n",
       "      <th>8170990</th>\n",
       "      <td>Cacicus cela</td>\n",
       "      <td>9</td>\n",
       "      <td>-9.979333</td>\n",
       "      <td>-50.036545</td>\n",
       "      <td>2021-02-22</td>\n",
       "    </tr>\n",
       "    <tr>\n",
       "      <th>8170991</th>\n",
       "      <td>Melanerpes cruentatus</td>\n",
       "      <td>4</td>\n",
       "      <td>-11.585900</td>\n",
       "      <td>-48.082118</td>\n",
       "      <td>2021-02-16</td>\n",
       "    </tr>\n",
       "    <tr>\n",
       "      <th>8170992</th>\n",
       "      <td>Hemitriccus minimus</td>\n",
       "      <td>1</td>\n",
       "      <td>-9.979333</td>\n",
       "      <td>-50.036545</td>\n",
       "      <td>2021-02-23</td>\n",
       "    </tr>\n",
       "    <tr>\n",
       "      <th>8170993</th>\n",
       "      <td>Hemitriccus minimus</td>\n",
       "      <td>1</td>\n",
       "      <td>-9.979333</td>\n",
       "      <td>-50.036545</td>\n",
       "      <td>2021-02-23</td>\n",
       "    </tr>\n",
       "  </tbody>\n",
       "</table>\n",
       "<p>8170994 rows × 5 columns</p>\n",
       "</div>"
      ],
      "text/plain": [
       "               SCIENTIFIC NAME  OBSERVATION COUNT   LATITUDE  LONGITUDE  \\\n",
       "0                Anous minutus                  1   0.916828 -29.345435   \n",
       "1             Sula leucogaster                  1   0.916828 -29.345435   \n",
       "2               Anous stolidus                  1   0.916828 -29.345435   \n",
       "3        Oceanodroma leucorhoa                  1   0.916828 -29.345435   \n",
       "4          Fregata magnificens                  1   0.916828 -29.345435   \n",
       "...                        ...                ...        ...        ...   \n",
       "8170989           Cacicus cela                  4  -9.858650 -48.663900   \n",
       "8170990           Cacicus cela                  9  -9.979333 -50.036545   \n",
       "8170991  Melanerpes cruentatus                  4 -11.585900 -48.082118   \n",
       "8170992    Hemitriccus minimus                  1  -9.979333 -50.036545   \n",
       "8170993    Hemitriccus minimus                  1  -9.979333 -50.036545   \n",
       "\n",
       "        OBSERVATION DATE  \n",
       "0             2007-10-26  \n",
       "1             2007-10-26  \n",
       "2             2007-10-26  \n",
       "3             2007-10-26  \n",
       "4             2007-10-26  \n",
       "...                  ...  \n",
       "8170989       2021-02-21  \n",
       "8170990       2021-02-22  \n",
       "8170991       2021-02-16  \n",
       "8170992       2021-02-23  \n",
       "8170993       2021-02-23  \n",
       "\n",
       "[8170994 rows x 5 columns]"
      ]
     },
     "execution_count": 31,
     "metadata": {},
     "output_type": "execute_result"
    }
   ],
   "source": [
    "df4"
   ]
  },
  {
   "cell_type": "code",
   "execution_count": 19,
   "metadata": {
    "ExecuteTime": {
     "end_time": "2021-04-13T00:34:35.639930Z",
     "start_time": "2021-04-13T00:34:35.088618Z"
    }
   },
   "outputs": [],
   "source": [
    "mks_teste = df4['SCIENTIFIC NAME'] == 'Turdus flavipes'"
   ]
  },
  {
   "cell_type": "code",
   "execution_count": 34,
   "metadata": {
    "ExecuteTime": {
     "end_time": "2021-04-13T01:47:35.401549Z",
     "start_time": "2021-04-13T01:47:35.378585Z"
    }
   },
   "outputs": [],
   "source": [
    "data4 = df4[mks_teste]"
   ]
  },
  {
   "cell_type": "code",
   "execution_count": 35,
   "metadata": {
    "ExecuteTime": {
     "end_time": "2021-04-13T01:47:38.352699Z",
     "start_time": "2021-04-13T01:47:38.325738Z"
    }
   },
   "outputs": [
    {
     "data": {
      "text/html": [
       "<div>\n",
       "<style scoped>\n",
       "    .dataframe tbody tr th:only-of-type {\n",
       "        vertical-align: middle;\n",
       "    }\n",
       "\n",
       "    .dataframe tbody tr th {\n",
       "        vertical-align: top;\n",
       "    }\n",
       "\n",
       "    .dataframe thead th {\n",
       "        text-align: right;\n",
       "    }\n",
       "</style>\n",
       "<table border=\"1\" class=\"dataframe\">\n",
       "  <thead>\n",
       "    <tr style=\"text-align: right;\">\n",
       "      <th></th>\n",
       "      <th>SCIENTIFIC NAME</th>\n",
       "      <th>OBSERVATION COUNT</th>\n",
       "      <th>LATITUDE</th>\n",
       "      <th>LONGITUDE</th>\n",
       "      <th>OBSERVATION DATE</th>\n",
       "    </tr>\n",
       "  </thead>\n",
       "  <tbody>\n",
       "    <tr>\n",
       "      <th>492195</th>\n",
       "      <td>Turdus flavipes</td>\n",
       "      <td>1</td>\n",
       "      <td>-15.195380</td>\n",
       "      <td>-39.058843</td>\n",
       "      <td>1999-06-06</td>\n",
       "    </tr>\n",
       "    <tr>\n",
       "      <th>493095</th>\n",
       "      <td>Turdus flavipes</td>\n",
       "      <td>1</td>\n",
       "      <td>-15.170063</td>\n",
       "      <td>-39.533615</td>\n",
       "      <td>1999-11-02</td>\n",
       "    </tr>\n",
       "    <tr>\n",
       "      <th>498986</th>\n",
       "      <td>Turdus flavipes</td>\n",
       "      <td>1</td>\n",
       "      <td>-14.365026</td>\n",
       "      <td>-40.207334</td>\n",
       "      <td>2004-02-23</td>\n",
       "    </tr>\n",
       "    <tr>\n",
       "      <th>499431</th>\n",
       "      <td>Turdus flavipes</td>\n",
       "      <td>1</td>\n",
       "      <td>-14.413223</td>\n",
       "      <td>-40.134543</td>\n",
       "      <td>2004-06-15</td>\n",
       "    </tr>\n",
       "    <tr>\n",
       "      <th>499432</th>\n",
       "      <td>Turdus flavipes</td>\n",
       "      <td>1</td>\n",
       "      <td>-14.492222</td>\n",
       "      <td>-39.135833</td>\n",
       "      <td>2004-06-07</td>\n",
       "    </tr>\n",
       "    <tr>\n",
       "      <th>...</th>\n",
       "      <td>...</td>\n",
       "      <td>...</td>\n",
       "      <td>...</td>\n",
       "      <td>...</td>\n",
       "      <td>...</td>\n",
       "    </tr>\n",
       "    <tr>\n",
       "      <th>8051751</th>\n",
       "      <td>Turdus flavipes</td>\n",
       "      <td>1</td>\n",
       "      <td>-23.395798</td>\n",
       "      <td>-46.259755</td>\n",
       "      <td>2021-02-20</td>\n",
       "    </tr>\n",
       "    <tr>\n",
       "      <th>8051752</th>\n",
       "      <td>Turdus flavipes</td>\n",
       "      <td>4</td>\n",
       "      <td>-23.810413</td>\n",
       "      <td>-46.457585</td>\n",
       "      <td>2021-02-15</td>\n",
       "    </tr>\n",
       "    <tr>\n",
       "      <th>8051753</th>\n",
       "      <td>Turdus flavipes</td>\n",
       "      <td>1</td>\n",
       "      <td>-23.772801</td>\n",
       "      <td>-46.290759</td>\n",
       "      <td>2021-02-20</td>\n",
       "    </tr>\n",
       "    <tr>\n",
       "      <th>8051754</th>\n",
       "      <td>Turdus flavipes</td>\n",
       "      <td>3</td>\n",
       "      <td>-24.268210</td>\n",
       "      <td>-48.412757</td>\n",
       "      <td>2021-02-22</td>\n",
       "    </tr>\n",
       "    <tr>\n",
       "      <th>8051755</th>\n",
       "      <td>Turdus flavipes</td>\n",
       "      <td>18</td>\n",
       "      <td>-23.772801</td>\n",
       "      <td>-46.290759</td>\n",
       "      <td>2021-02-27</td>\n",
       "    </tr>\n",
       "  </tbody>\n",
       "</table>\n",
       "<p>11037 rows × 5 columns</p>\n",
       "</div>"
      ],
      "text/plain": [
       "         SCIENTIFIC NAME  OBSERVATION COUNT   LATITUDE  LONGITUDE  \\\n",
       "492195   Turdus flavipes                  1 -15.195380 -39.058843   \n",
       "493095   Turdus flavipes                  1 -15.170063 -39.533615   \n",
       "498986   Turdus flavipes                  1 -14.365026 -40.207334   \n",
       "499431   Turdus flavipes                  1 -14.413223 -40.134543   \n",
       "499432   Turdus flavipes                  1 -14.492222 -39.135833   \n",
       "...                  ...                ...        ...        ...   \n",
       "8051751  Turdus flavipes                  1 -23.395798 -46.259755   \n",
       "8051752  Turdus flavipes                  4 -23.810413 -46.457585   \n",
       "8051753  Turdus flavipes                  1 -23.772801 -46.290759   \n",
       "8051754  Turdus flavipes                  3 -24.268210 -48.412757   \n",
       "8051755  Turdus flavipes                 18 -23.772801 -46.290759   \n",
       "\n",
       "        OBSERVATION DATE  \n",
       "492195        1999-06-06  \n",
       "493095        1999-11-02  \n",
       "498986        2004-02-23  \n",
       "499431        2004-06-15  \n",
       "499432        2004-06-07  \n",
       "...                  ...  \n",
       "8051751       2021-02-20  \n",
       "8051752       2021-02-15  \n",
       "8051753       2021-02-20  \n",
       "8051754       2021-02-22  \n",
       "8051755       2021-02-27  \n",
       "\n",
       "[11037 rows x 5 columns]"
      ]
     },
     "execution_count": 35,
     "metadata": {},
     "output_type": "execute_result"
    }
   ],
   "source": [
    "data4"
   ]
  },
  {
   "cell_type": "code",
   "execution_count": 24,
   "metadata": {
    "ExecuteTime": {
     "end_time": "2021-04-13T00:35:47.992330Z",
     "start_time": "2021-04-13T00:35:47.708141Z"
    }
   },
   "outputs": [],
   "source": [
    "data4.to_csv('projeção_de_abundancia_teste2.csv', sep='\\t', encoding='utf-8', index=False)"
   ]
  }
 ],
 "metadata": {
  "kernelspec": {
   "display_name": "Python 3",
   "language": "python",
   "name": "python3"
  },
  "language_info": {
   "codemirror_mode": {
    "name": "ipython",
    "version": 3
   },
   "file_extension": ".py",
   "mimetype": "text/x-python",
   "name": "python",
   "nbconvert_exporter": "python",
   "pygments_lexer": "ipython3",
   "version": "3.8.3"
  },
  "toc": {
   "base_numbering": 1,
   "nav_menu": {},
   "number_sections": true,
   "sideBar": true,
   "skip_h1_title": false,
   "title_cell": "Table of Contents",
   "title_sidebar": "Contents",
   "toc_cell": false,
   "toc_position": {},
   "toc_section_display": true,
   "toc_window_display": false
  },
  "varInspector": {
   "cols": {
    "lenName": 16,
    "lenType": 16,
    "lenVar": 40
   },
   "kernels_config": {
    "python": {
     "delete_cmd_postfix": "",
     "delete_cmd_prefix": "del ",
     "library": "var_list.py",
     "varRefreshCmd": "print(var_dic_list())"
    },
    "r": {
     "delete_cmd_postfix": ") ",
     "delete_cmd_prefix": "rm(",
     "library": "var_list.r",
     "varRefreshCmd": "cat(var_dic_list()) "
    }
   },
   "position": {
    "height": "144px",
    "left": "1230px",
    "right": "20px",
    "top": "119px",
    "width": "350px"
   },
   "types_to_exclude": [
    "module",
    "function",
    "builtin_function_or_method",
    "instance",
    "_Feature"
   ],
   "window_display": false
  }
 },
 "nbformat": 4,
 "nbformat_minor": 4
}
